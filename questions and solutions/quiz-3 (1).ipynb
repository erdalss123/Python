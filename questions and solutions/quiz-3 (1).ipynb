{
 "cells": [
  {
   "cell_type": "markdown",
   "id": "e535e6f6",
   "metadata": {},
   "source": [
    "Erdal Taşar - 02210201079"
   ]
  },
  {
   "cell_type": "code",
   "execution_count": 23,
   "id": "d8f4b20e",
   "metadata": {},
   "outputs": [
    {
     "name": "stdout",
     "output_type": "stream",
     "text": [
      "[0, 1, 1, 1, 3, 3, 4, 9]\n"
     ]
    }
   ],
   "source": [
    "A=[3,1,1,9,0,4,3,1]\n",
    "enb=0\n",
    "count=[]\n",
    "cevap=[]\n",
    "for x in A:\n",
    "    if (x>enb):\n",
    "        enb=x\n",
    "for x in range(enb+1):\n",
    "    count.append(0)\n",
    "for c in A:\n",
    "    for m in range(len(count)):\n",
    "        if (c==m):\n",
    "            count[m]+=1\n",
    "for i in range(len(count)):\n",
    "    if (count[i]==0):\n",
    "        continue\n",
    "    else:\n",
    "        for x in range(count[i]):\n",
    "            cevap.append(i)\n",
    "print(cevap)\n",
    "\n",
    "    "
   ]
  },
  {
   "cell_type": "code",
   "execution_count": null,
   "id": "402e9d85",
   "metadata": {},
   "outputs": [],
   "source": []
  }
 ],
 "metadata": {
  "kernelspec": {
   "display_name": "Python 3 (ipykernel)",
   "language": "python",
   "name": "python3"
  },
  "language_info": {
   "codemirror_mode": {
    "name": "ipython",
    "version": 3
   },
   "file_extension": ".py",
   "mimetype": "text/x-python",
   "name": "python",
   "nbconvert_exporter": "python",
   "pygments_lexer": "ipython3",
   "version": "3.9.7"
  }
 },
 "nbformat": 4,
 "nbformat_minor": 5
}
