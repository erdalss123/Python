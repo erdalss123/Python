{
 "cells": [
  {
   "cell_type": "code",
   "execution_count": 1,
   "id": "bd80ee7d",
   "metadata": {},
   "outputs": [
    {
     "name": "stdout",
     "output_type": "stream",
     "text": [
      "1 2 3\n",
      "2\n",
      "[1, 2, 3]\n",
      "1 . sıra\n"
     ]
    }
   ],
   "source": [
    "C=list(map(int,input().split()))\n",
    "wanted=int(input())\n",
    "for i in range(len(C)-1):\n",
    "    j=0\n",
    "    for g in C:\n",
    "        if (j==len(C)-1):\n",
    "            continue\n",
    "        elif (C[j]>C[j+1]):\n",
    "            C[j],C[j+1]=C[j+1],C[j]\n",
    "        j+=1\n",
    "print(C)\n",
    "left=0\n",
    "right=len(C)-1\n",
    "check=0\n",
    "while (check!=1):\n",
    "    middle=int((left+right)/2)\n",
    "    if (C[middle]==wanted):\n",
    "        print(middle,\". sıra\")\n",
    "        check=1\n",
    "    elif (C[middle]>wanted):\n",
    "        right=middle-1\n",
    "    elif (C[middle]<wanted):\n",
    "        left=middle+1\n",
    "    elif (C[left]==wanted):\n",
    "        print(left,\". sıra\")\n",
    "        check=1\n",
    "    elif (C[right]==wanted):\n",
    "        print(right,\". sıra\")\n",
    "        check=1"
   ]
  },
  {
   "cell_type": "code",
   "execution_count": null,
   "id": "35ba6334",
   "metadata": {},
   "outputs": [],
   "source": []
  }
 ],
 "metadata": {
  "kernelspec": {
   "display_name": "Python 3 (ipykernel)",
   "language": "python",
   "name": "python3"
  },
  "language_info": {
   "codemirror_mode": {
    "name": "ipython",
    "version": 3
   },
   "file_extension": ".py",
   "mimetype": "text/x-python",
   "name": "python",
   "nbconvert_exporter": "python",
   "pygments_lexer": "ipython3",
   "version": "3.9.7"
  }
 },
 "nbformat": 4,
 "nbformat_minor": 5
}
